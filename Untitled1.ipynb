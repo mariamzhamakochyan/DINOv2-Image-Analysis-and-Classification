{
  "nbformat": 4,
  "nbformat_minor": 0,
  "metadata": {
    "colab": {
      "provenance": [],
      "authorship_tag": "ABX9TyPORIQsUudkNgPYweqPCmME"
    },
    "kernelspec": {
      "name": "python3",
      "display_name": "Python 3"
    },
    "language_info": {
      "name": "python"
    }
  },
  "cells": [
    {
      "cell_type": "code",
      "execution_count": 1,
      "metadata": {
        "id": "xi05QpOZc7XR"
      },
      "outputs": [],
      "source": [
        "import numpy as np"
      ]
    }
  ]
}